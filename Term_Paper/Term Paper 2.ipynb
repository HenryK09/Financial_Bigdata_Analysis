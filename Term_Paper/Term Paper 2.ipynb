{
 "cells": [
  {
   "cell_type": "code",
   "execution_count": 77,
   "metadata": {},
   "outputs": [],
   "source": [
    "import tensorflow as tf\n",
    "import numpy as np\n",
    "import pandas as pd\n",
    "import matplotlib.pyplot as plt\n",
    "%matplotlib inline"
   ]
  },
  {
   "cell_type": "code",
   "execution_count": 78,
   "metadata": {},
   "outputs": [
    {
     "data": {
      "text/html": [
       "<div>\n",
       "<style scoped>\n",
       "    .dataframe tbody tr th:only-of-type {\n",
       "        vertical-align: middle;\n",
       "    }\n",
       "\n",
       "    .dataframe tbody tr th {\n",
       "        vertical-align: top;\n",
       "    }\n",
       "\n",
       "    .dataframe thead th {\n",
       "        text-align: right;\n",
       "    }\n",
       "</style>\n",
       "<table border=\"1\" class=\"dataframe\">\n",
       "  <thead>\n",
       "    <tr style=\"text-align: right;\">\n",
       "      <th></th>\n",
       "      <th>DATE</th>\n",
       "      <th>Inflation Rate</th>\n",
       "      <th>Unemployment Rate</th>\n",
       "      <th>Total Assets</th>\n",
       "      <th>MORTGAGE30US</th>\n",
       "      <th>Industrial Production</th>\n",
       "      <th>Personal Consumption Expenditures</th>\n",
       "      <th>Personal Saving Rate</th>\n",
       "      <th>Composite Leading Indicator</th>\n",
       "    </tr>\n",
       "  </thead>\n",
       "  <tbody>\n",
       "    <tr>\n",
       "      <th>215</th>\n",
       "      <td>2020-12-01</td>\n",
       "      <td>1.915909</td>\n",
       "      <td>6.7</td>\n",
       "      <td>7319010.80</td>\n",
       "      <td>2.6840</td>\n",
       "      <td>98.3349</td>\n",
       "      <td>14451.1</td>\n",
       "      <td>14.2</td>\n",
       "      <td>1</td>\n",
       "    </tr>\n",
       "    <tr>\n",
       "      <th>216</th>\n",
       "      <td>2021-01-01</td>\n",
       "      <td>2.081579</td>\n",
       "      <td>6.3</td>\n",
       "      <td>7372161.25</td>\n",
       "      <td>2.7350</td>\n",
       "      <td>99.3189</td>\n",
       "      <td>14938.0</td>\n",
       "      <td>20.6</td>\n",
       "      <td>1</td>\n",
       "    </tr>\n",
       "    <tr>\n",
       "      <th>217</th>\n",
       "      <td>2021-02-01</td>\n",
       "      <td>2.180000</td>\n",
       "      <td>6.2</td>\n",
       "      <td>7500084.00</td>\n",
       "      <td>2.8100</td>\n",
       "      <td>96.3932</td>\n",
       "      <td>14789.7</td>\n",
       "      <td>14.7</td>\n",
       "      <td>1</td>\n",
       "    </tr>\n",
       "    <tr>\n",
       "      <th>218</th>\n",
       "      <td>2021-03-01</td>\n",
       "      <td>2.275217</td>\n",
       "      <td>6.0</td>\n",
       "      <td>7647908.20</td>\n",
       "      <td>3.0825</td>\n",
       "      <td>98.4744</td>\n",
       "      <td>15480.1</td>\n",
       "      <td>27.7</td>\n",
       "      <td>1</td>\n",
       "    </tr>\n",
       "    <tr>\n",
       "      <th>219</th>\n",
       "      <td>2021-04-01</td>\n",
       "      <td>2.349545</td>\n",
       "      <td>6.1</td>\n",
       "      <td>7775974.00</td>\n",
       "      <td>3.0600</td>\n",
       "      <td>99.0122</td>\n",
       "      <td>15560.3</td>\n",
       "      <td>14.9</td>\n",
       "      <td>1</td>\n",
       "    </tr>\n",
       "  </tbody>\n",
       "</table>\n",
       "</div>"
      ],
      "text/plain": [
       "          DATE  Inflation Rate  Unemployment Rate  Total Assets  MORTGAGE30US  \\\n",
       "215 2020-12-01        1.915909                6.7    7319010.80        2.6840   \n",
       "216 2021-01-01        2.081579                6.3    7372161.25        2.7350   \n",
       "217 2021-02-01        2.180000                6.2    7500084.00        2.8100   \n",
       "218 2021-03-01        2.275217                6.0    7647908.20        3.0825   \n",
       "219 2021-04-01        2.349545                6.1    7775974.00        3.0600   \n",
       "\n",
       "     Industrial Production  Personal Consumption Expenditures  \\\n",
       "215                98.3349                            14451.1   \n",
       "216                99.3189                            14938.0   \n",
       "217                96.3932                            14789.7   \n",
       "218                98.4744                            15480.1   \n",
       "219                99.0122                            15560.3   \n",
       "\n",
       "     Personal Saving Rate  Composite Leading Indicator  \n",
       "215                  14.2                            1  \n",
       "216                  20.6                            1  \n",
       "217                  14.7                            1  \n",
       "218                  27.7                            1  \n",
       "219                  14.9                            1  "
      ]
     },
     "execution_count": 78,
     "metadata": {},
     "output_type": "execute_result"
    }
   ],
   "source": [
    "df = pd.read_excel('C:/Users/s/Desktop/금융빅데이터분석학/TP2data.xlsx')\n",
    "\n",
    "df.tail(5)"
   ]
  },
  {
   "cell_type": "code",
   "execution_count": 79,
   "metadata": {},
   "outputs": [
    {
     "name": "stdout",
     "output_type": "stream",
     "text": [
      "(209, 7) (209, 1)\n"
     ]
    }
   ],
   "source": [
    "x_train = df.iloc[0:209, 1:8].values  # from 2003.1m~2020.4m\n",
    "y_train = df.iloc[0:209, [-1]].values\n",
    "#x_train.tail()\n",
    "x_train = np.array(x_train, dtype=np.float32)\n",
    "y_train = np.array(y_train, dtype=np.float32)\n",
    "print(x_train.shape, y_train.shape)\n",
    "\n",
    "x_test = df.iloc[209:222, 1:8].values  # from 2020.5m~2021.4m\n",
    "y_test = df.iloc[209:222, [-1]].values\n",
    "#print(x_test.tail())\n",
    "x_test = np.array(x_test, dtype=np.float32)\n",
    "y_test = np.array(y_test, dtype=np.float32)"
   ]
  },
  {
   "cell_type": "markdown",
   "metadata": {},
   "source": [
    "### MinMaxScaler로 data normalize"
   ]
  },
  {
   "cell_type": "code",
   "execution_count": 80,
   "metadata": {},
   "outputs": [],
   "source": [
    "from sklearn.preprocessing import MinMaxScaler\n",
    "scaler = MinMaxScaler()\n",
    "x_train = scaler.fit_transform(x_train)\n",
    "x_test = scaler.fit_transform(x_test)"
   ]
  },
  {
   "cell_type": "markdown",
   "metadata": {},
   "source": [
    "### Parameters 설정"
   ]
  },
  {
   "cell_type": "code",
   "execution_count": 81,
   "metadata": {},
   "outputs": [
    {
     "name": "stdout",
     "output_type": "stream",
     "text": [
      "1 7\n",
      "209 11\n"
     ]
    }
   ],
   "source": [
    "# dataset parameters\n",
    "nb_classes  = y_train.shape[1] # 1; 종속변수의 개수\n",
    "nb_features = x_train.shape[1] # the number of variables 7; 독립변수의 개수\n",
    "print(nb_classes, nb_features)\n",
    "\n",
    "n_train = x_train.shape[0] # the number of sample 209\n",
    "n_test  = x_test.shape[0]  # the number of sample 12\n",
    "print(n_train, n_test)\n",
    "\n",
    "# training HyperParameters\n",
    "learning_rate  = 0.01\n",
    "training_steps = 20001\n",
    "display_step   = 2000\n",
    "\n",
    "# network hyperparameters\n",
    "n_hidden1 = 7 # 1st layer number of neurons\n",
    "n_output1 = 1"
   ]
  },
  {
   "cell_type": "markdown",
   "metadata": {},
   "source": [
    "### 초기값 셋업시키기"
   ]
  },
  {
   "cell_type": "code",
   "execution_count": 82,
   "metadata": {},
   "outputs": [],
   "source": [
    "# define weights as a dictionary\n",
    "tf.random.set_seed(2021)\n",
    "\"\"\"\n",
    "weights = {\n",
    "    'h1'  : tf.Variable(tf.random.normal([nb_features, n_hidden1], stddev=0.1)),\n",
    "    'out' : tf.Variable(tf.random.normal([n_hidden1, n_output1], stddev=0.1))\n",
    "}\n",
    "biases = {\n",
    "    'b1'  : tf.Variable(tf.random.normal([n_hidden1], stddev=0.1)),\n",
    "    'out' : tf.Variable(tf.random.normal([n_hidden1], stddev=0.1))\n",
    "}\n",
    "\"\"\"\n",
    "weights = {\n",
    "    #'h1' : tf.Variable(tf.initializers.GlorotUniform()((nb_features, n_hidden1))),\n",
    "    #'out' : tf.Variable(tf.initializers.GlorotUniform()((nb_features, n_output))) #xavier_initializer_())\n",
    "    'h1'  : tf.Variable(tf.initializers.GlorotNormal()((nb_features, n_hidden1))),\n",
    "    'out' : tf.Variable(tf.initializers.GlorotNormal()((n_hidden1, n_output1))) #xavier_initializer_())\n",
    "}\n",
    "biases = {\n",
    "    'b1'  : tf.Variable(tf.random.normal([n_hidden1], stddev=0.1)),\n",
    "    'out' : tf.Variable(tf.random.normal([n_output1], stddev=0.1))\n",
    "}\n"
   ]
  },
  {
   "cell_type": "markdown",
   "metadata": {},
   "source": [
    "### Hypothesis 세우기"
   ]
  },
  {
   "cell_type": "code",
   "execution_count": 83,
   "metadata": {},
   "outputs": [],
   "source": [
    "# define network architecture\n",
    "def build_model(X):    \n",
    "    hidden = tf.add(tf.matmul(X, weights['h1']), biases['b1']) # 첫번째 hidden layer\n",
    "    hidden = tf.nn.relu(hidden) # tf.nn.sigmoid(hidden)\n",
    "    \n",
    "    output = tf.add(tf.matmul(hidden, weights['out']), biases['out']) \n",
    "    # 첫번째 hidden layer에서 output으로 연결되는 부분: Weight의 'out' + 상수항(bias의 'out')\n",
    "    return tf.nn.sigmoid(output) # 출력 나가는 값: 0과 1로 transform된 값으로 나가야함(sigmoid쓴 이유)\n",
    "    # 0,1,2로 나가면 softmax 활용하면됨\n",
    "    \n",
    "# cost function : cross-entropy\n",
    "def cost(H, Y):\n",
    "    return -tf.reduce_mean(Y*tf.math.log(H) + (1-Y)*tf.math.log(1-H))\n",
    "\n",
    "# Accuracy\n",
    "def accuracy(X, Y):\n",
    "    hypo = build_model(X)\n",
    "    predicted = tf.cast(hypo > 0.5, dtype=tf.float32)\n",
    "    return tf.reduce_mean(tf.cast(tf.equal(predicted, Y), dtype=tf.float32))"
   ]
  },
  {
   "cell_type": "code",
   "execution_count": 84,
   "metadata": {},
   "outputs": [],
   "source": [
    "# stochastic gradient descent algorithm to minimize cost funtion\n",
    "optimizer = tf.optimizers.SGD(learning_rate)\n",
    "\n",
    "# training process\n",
    "loss_record = []\n",
    "def train(X, Y):\n",
    "    # wrap computation inside a GradientTape for automactic differentiation\n",
    "    with tf.GradientTape() as g:\n",
    "        pred = build_model(X)  # make prediction\n",
    "        loss = cost(pred, Y)  # calculate loss\n",
    "        loss_record.append(loss.numpy())\n",
    "        #print('loss = ',loss.numpy())\n",
    "\n",
    "    # calculate gradients\n",
    "    #gradients = g.gradient(loss, [W, b]) # dloss/dW, dloss/db\n",
    "    #optimizer.apply_gradients(zip(gradients, [W, b])) # W : W - a*dcost/dW\n",
    "        \n",
    "    # Variables to update, i.e. trainable variables.\n",
    "    trainable_variables = list(weights.values()) + list(biases.values())\n",
    "    # 기존의 것과의 차이점!\n",
    "\n",
    "    # Compute gradients.\n",
    "    gradients = g.gradient(loss, trainable_variables)\n",
    "    \n",
    "    # Update W and b following gradients.\n",
    "    optimizer.apply_gradients(zip(gradients, trainable_variables))"
   ]
  },
  {
   "cell_type": "code",
   "execution_count": 85,
   "metadata": {},
   "outputs": [
    {
     "name": "stdout",
     "output_type": "stream",
     "text": [
      "0 \t cost = 0.7151801 \t accuracy = 0.464115\n",
      "2000 \t cost = 0.67776006 \t accuracy = 0.550239\n",
      "4000 \t cost = 0.6635813 \t accuracy = 0.650718\n",
      "6000 \t cost = 0.6524865 \t accuracy = 0.665072\n",
      "8000 \t cost = 0.6436855 \t accuracy = 0.669856\n",
      "10000 \t cost = 0.6362542 \t accuracy = 0.684211\n",
      "12000 \t cost = 0.6298079 \t accuracy = 0.688995\n",
      "14000 \t cost = 0.6243717 \t accuracy = 0.698565\n",
      "16000 \t cost = 0.6197893 \t accuracy = 0.703349\n",
      "18000 \t cost = 0.6159173 \t accuracy = 0.708134\n",
      "20000 \t cost = 0.6126187 \t accuracy = 0.708134\n"
     ]
    }
   ],
   "source": [
    "for step in range(training_steps):\n",
    "    \n",
    "    train(x_train, y_train)\n",
    "    \n",
    "    if step % display_step == 0:\n",
    "        pred = build_model(x_train)\n",
    "        loss = cost(pred, y_train) \n",
    "        acc  = accuracy(x_train, y_train)\n",
    "        print(\"%s \\t cost = %s \\t accuracy = %f\" % (step, loss.numpy(), acc.numpy()))"
   ]
  },
  {
   "cell_type": "code",
   "execution_count": 86,
   "metadata": {},
   "outputs": [
    {
     "data": {
      "image/png": "[encoded data removed]",
      "text/plain": [
       "<Figure size 576x360 with 1 Axes>"
      ]
     },
     "metadata": {
      "needs_background": "light"
     },
     "output_type": "display_data"
    }
   ],
   "source": [
    "plt.figure(figsize = (8,5))\n",
    "plt.plot(loss_record)\n",
    "plt.xlabel('iteration', fontsize = 15)\n",
    "plt.ylabel('loss', fontsize = 15)\n",
    "plt.show()"
   ]
  },
  {
   "cell_type": "code",
   "execution_count": 87,
   "metadata": {},
   "outputs": [
    {
     "name": "stdout",
     "output_type": "stream",
     "text": [
      "Accuracy: 70.81339955329895\n"
     ]
    }
   ],
   "source": [
    "acc = accuracy(x_train, y_train).numpy()\n",
    "print(\"Accuracy: %s\" % (acc*100))"
   ]
  },
  {
   "cell_type": "code",
   "execution_count": 88,
   "metadata": {},
   "outputs": [
    {
     "data": {
      "image/png": "[encoded data removed]",
      "text/plain": [
       "<Figure size 432x288 with 1 Axes>"
      ]
     },
     "metadata": {
      "needs_background": "light"
     },
     "output_type": "display_data"
    }
   ],
   "source": [
    "in_sample= build_model(x_train)\n",
    "\n",
    "plt.plot(in_sample, 'o-', label='in sample forecast')\n",
    "plt.plot(y_train, 'k-',   label='target')\n",
    "plt.legend()\n",
    "plt.show()"
   ]
  },
  {
   "cell_type": "markdown",
   "metadata": {},
   "source": [
    "### 학습에 활용되지 않는 test data를 가지고 성과 평가"
   ]
  },
  {
   "cell_type": "code",
   "execution_count": 89,
   "metadata": {},
   "outputs": [
    {
     "name": "stdout",
     "output_type": "stream",
     "text": [
      "0 \t cost = 1.4903286 \t accuracy = 0.272727\n",
      "2000 \t cost = 0.0029461486 \t accuracy = 1.000000\n",
      "4000 \t cost = 0.00135893 \t accuracy = 1.000000\n",
      "6000 \t cost = 0.0008656945 \t accuracy = 1.000000\n",
      "8000 \t cost = 0.0006290004 \t accuracy = 1.000000\n",
      "10000 \t cost = 0.0004911015 \t accuracy = 1.000000\n",
      "12000 \t cost = 0.0004012887 \t accuracy = 1.000000\n",
      "14000 \t cost = 0.00033830886 \t accuracy = 1.000000\n",
      "16000 \t cost = 0.0002918752 \t accuracy = 1.000000\n",
      "18000 \t cost = 0.0002562324 \t accuracy = 1.000000\n",
      "20000 \t cost = 0.00022805027 \t accuracy = 1.000000\n"
     ]
    }
   ],
   "source": [
    "for step in range(training_steps):\n",
    "    \n",
    "    train(x_test, y_test)\n",
    "    \n",
    "    if step % display_step == 0:\n",
    "        pred = build_model(x_test)\n",
    "        loss = cost(pred, y_test) \n",
    "        acc  = accuracy(x_test, y_test)\n",
    "        print(\"%s \\t cost = %s \\t accuracy = %f\" % (step, loss.numpy(), acc.numpy()))"
   ]
  },
  {
   "cell_type": "code",
   "execution_count": 90,
   "metadata": {},
   "outputs": [
    {
     "data": {
      "image/png": "[encoded data removed]",
      "text/plain": [
       "<Figure size 432x288 with 1 Axes>"
      ]
     },
     "metadata": {
      "needs_background": "light"
     },
     "output_type": "display_data"
    }
   ],
   "source": [
    "pred = build_model(x_test)\n",
    "\n",
    "plt.plot(pred, 'o-', label='out of sample forecast')\n",
    "plt.plot(y_test, 'k-', label='true values')\n",
    "plt.show()"
   ]
  },
  {
   "cell_type": "markdown",
   "metadata": {},
   "source": [
    "### 신규 데이터의 변수들이 앞으로 어떨 것으로 가정했을 때 <br> 앞으로 경제는 호황에 가까울지, 불황국면으로 갈 가능성이 높은지 예측"
   ]
  },
  {
   "cell_type": "code",
   "execution_count": 97,
   "metadata": {},
   "outputs": [
    {
     "name": "stdout",
     "output_type": "stream",
     "text": [
      "(1, 6) (1, 1)\n"
     ]
    }
   ],
   "source": [
    "print(x_test.shape, y_test.shape)"
   ]
  },
  {
   "cell_type": "code",
   "execution_count": 104,
   "metadata": {
    "scrolled": true
   },
   "outputs": [
    {
     "ename": "InvalidArgumentError",
     "evalue": "Matrix size-incompatible: In[0]: [1,6], In[1]: [7,7] [Op:MatMul]",
     "output_type": "error",
     "traceback": [
      "\u001b[1;31m---------------------------------------------------------------------------\u001b[0m",
      "\u001b[1;31mInvalidArgumentError\u001b[0m                      Traceback (most recent call last)",
      "\u001b[1;32m<ipython-input-104-e504a6133c80>\u001b[0m in \u001b[0;36m<module>\u001b[1;34m\u001b[0m\n\u001b[0;32m      8\u001b[0m \u001b[0my_test\u001b[0m \u001b[1;33m=\u001b[0m \u001b[0mnp\u001b[0m\u001b[1;33m.\u001b[0m\u001b[0marray\u001b[0m\u001b[1;33m(\u001b[0m\u001b[1;33m[\u001b[0m\u001b[1;33m[\u001b[0m\u001b[1;36m1.\u001b[0m\u001b[1;33m]\u001b[0m\u001b[1;33m]\u001b[0m\u001b[1;33m,\u001b[0m \u001b[0mdtype\u001b[0m\u001b[1;33m=\u001b[0m\u001b[0mnp\u001b[0m\u001b[1;33m.\u001b[0m\u001b[0mfloat32\u001b[0m\u001b[1;33m)\u001b[0m\u001b[1;33m\u001b[0m\u001b[1;33m\u001b[0m\u001b[0m\n\u001b[0;32m      9\u001b[0m \u001b[1;33m\u001b[0m\u001b[0m\n\u001b[1;32m---> 10\u001b[1;33m \u001b[0mx_test_predict\u001b[0m \u001b[1;33m=\u001b[0m \u001b[0mpredict\u001b[0m\u001b[1;33m(\u001b[0m\u001b[0mx_test\u001b[0m\u001b[1;33m)\u001b[0m\u001b[1;33m.\u001b[0m\u001b[0mnumpy\u001b[0m\u001b[1;33m(\u001b[0m\u001b[1;33m)\u001b[0m\u001b[1;33m\u001b[0m\u001b[1;33m\u001b[0m\u001b[0m\n\u001b[0m\u001b[0;32m     11\u001b[0m \u001b[0mprint\u001b[0m\u001b[1;33m(\u001b[0m\u001b[1;34m\"prob    : \\n %s\"\u001b[0m \u001b[1;33m%\u001b[0m \u001b[0mbuild_model\u001b[0m\u001b[1;33m(\u001b[0m\u001b[0mx_test\u001b[0m\u001b[1;33m)\u001b[0m\u001b[1;33m.\u001b[0m\u001b[0mnumpy\u001b[0m\u001b[1;33m(\u001b[0m\u001b[1;33m)\u001b[0m\u001b[1;33m)\u001b[0m\u001b[1;33m\u001b[0m\u001b[1;33m\u001b[0m\u001b[0m\n\u001b[0;32m     12\u001b[0m \u001b[0mprint\u001b[0m\u001b[1;33m(\u001b[0m\u001b[1;34m\"predict : \\n %s\"\u001b[0m \u001b[1;33m%\u001b[0m \u001b[0mx_test_predict\u001b[0m\u001b[1;33m)\u001b[0m\u001b[1;33m\u001b[0m\u001b[1;33m\u001b[0m\u001b[0m\n",
      "\u001b[1;32m<ipython-input-104-e504a6133c80>\u001b[0m in \u001b[0;36mpredict\u001b[1;34m(X)\u001b[0m\n\u001b[0;32m      1\u001b[0m \u001b[1;31m# Prediction\u001b[0m\u001b[1;33m\u001b[0m\u001b[1;33m\u001b[0m\u001b[1;33m\u001b[0m\u001b[0m\n\u001b[0;32m      2\u001b[0m \u001b[1;32mdef\u001b[0m \u001b[0mpredict\u001b[0m\u001b[1;33m(\u001b[0m\u001b[0mX\u001b[0m\u001b[1;33m)\u001b[0m\u001b[1;33m:\u001b[0m\u001b[1;33m\u001b[0m\u001b[1;33m\u001b[0m\u001b[0m\n\u001b[1;32m----> 3\u001b[1;33m     \u001b[0mhypo\u001b[0m \u001b[1;33m=\u001b[0m \u001b[0mbuild_model\u001b[0m\u001b[1;33m(\u001b[0m\u001b[0mX\u001b[0m\u001b[1;33m)\u001b[0m\u001b[1;33m\u001b[0m\u001b[1;33m\u001b[0m\u001b[0m\n\u001b[0m\u001b[0;32m      4\u001b[0m     \u001b[1;32mreturn\u001b[0m \u001b[0mtf\u001b[0m\u001b[1;33m.\u001b[0m\u001b[0mcast\u001b[0m\u001b[1;33m(\u001b[0m\u001b[0mhypo\u001b[0m \u001b[1;33m>\u001b[0m \u001b[1;36m0.5\u001b[0m\u001b[1;33m,\u001b[0m \u001b[0mdtype\u001b[0m\u001b[1;33m=\u001b[0m\u001b[0mtf\u001b[0m\u001b[1;33m.\u001b[0m\u001b[0mfloat32\u001b[0m\u001b[1;33m)\u001b[0m\u001b[1;33m\u001b[0m\u001b[1;33m\u001b[0m\u001b[0m\n\u001b[0;32m      5\u001b[0m \u001b[1;33m\u001b[0m\u001b[0m\n",
      "\u001b[1;32m<ipython-input-83-98826bcd7280>\u001b[0m in \u001b[0;36mbuild_model\u001b[1;34m(X)\u001b[0m\n\u001b[0;32m      1\u001b[0m \u001b[1;31m# define network architecture\u001b[0m\u001b[1;33m\u001b[0m\u001b[1;33m\u001b[0m\u001b[1;33m\u001b[0m\u001b[0m\n\u001b[0;32m      2\u001b[0m \u001b[1;32mdef\u001b[0m \u001b[0mbuild_model\u001b[0m\u001b[1;33m(\u001b[0m\u001b[0mX\u001b[0m\u001b[1;33m)\u001b[0m\u001b[1;33m:\u001b[0m\u001b[1;33m\u001b[0m\u001b[1;33m\u001b[0m\u001b[0m\n\u001b[1;32m----> 3\u001b[1;33m     \u001b[0mhidden\u001b[0m \u001b[1;33m=\u001b[0m \u001b[0mtf\u001b[0m\u001b[1;33m.\u001b[0m\u001b[0madd\u001b[0m\u001b[1;33m(\u001b[0m\u001b[0mtf\u001b[0m\u001b[1;33m.\u001b[0m\u001b[0mmatmul\u001b[0m\u001b[1;33m(\u001b[0m\u001b[0mX\u001b[0m\u001b[1;33m,\u001b[0m \u001b[0mweights\u001b[0m\u001b[1;33m[\u001b[0m\u001b[1;34m'h1'\u001b[0m\u001b[1;33m]\u001b[0m\u001b[1;33m)\u001b[0m\u001b[1;33m,\u001b[0m \u001b[0mbiases\u001b[0m\u001b[1;33m[\u001b[0m\u001b[1;34m'b1'\u001b[0m\u001b[1;33m]\u001b[0m\u001b[1;33m)\u001b[0m \u001b[1;31m# 첫번째 hidden layer\u001b[0m\u001b[1;33m\u001b[0m\u001b[1;33m\u001b[0m\u001b[0m\n\u001b[0m\u001b[0;32m      4\u001b[0m     \u001b[0mhidden\u001b[0m \u001b[1;33m=\u001b[0m \u001b[0mtf\u001b[0m\u001b[1;33m.\u001b[0m\u001b[0mnn\u001b[0m\u001b[1;33m.\u001b[0m\u001b[0mrelu\u001b[0m\u001b[1;33m(\u001b[0m\u001b[0mhidden\u001b[0m\u001b[1;33m)\u001b[0m \u001b[1;31m# tf.nn.sigmoid(hidden)\u001b[0m\u001b[1;33m\u001b[0m\u001b[1;33m\u001b[0m\u001b[0m\n\u001b[0;32m      5\u001b[0m \u001b[1;33m\u001b[0m\u001b[0m\n",
      "\u001b[1;32m~\\anaconda3\\lib\\site-packages\\tensorflow\\python\\util\\dispatch.py\u001b[0m in \u001b[0;36mwrapper\u001b[1;34m(*args, **kwargs)\u001b[0m\n\u001b[0;32m    199\u001b[0m     \u001b[1;34m\"\"\"Call target, and fall back on dispatchers if there is a TypeError.\"\"\"\u001b[0m\u001b[1;33m\u001b[0m\u001b[1;33m\u001b[0m\u001b[0m\n\u001b[0;32m    200\u001b[0m     \u001b[1;32mtry\u001b[0m\u001b[1;33m:\u001b[0m\u001b[1;33m\u001b[0m\u001b[1;33m\u001b[0m\u001b[0m\n\u001b[1;32m--> 201\u001b[1;33m       \u001b[1;32mreturn\u001b[0m \u001b[0mtarget\u001b[0m\u001b[1;33m(\u001b[0m\u001b[1;33m*\u001b[0m\u001b[0margs\u001b[0m\u001b[1;33m,\u001b[0m \u001b[1;33m**\u001b[0m\u001b[0mkwargs\u001b[0m\u001b[1;33m)\u001b[0m\u001b[1;33m\u001b[0m\u001b[1;33m\u001b[0m\u001b[0m\n\u001b[0m\u001b[0;32m    202\u001b[0m     \u001b[1;32mexcept\u001b[0m \u001b[1;33m(\u001b[0m\u001b[0mTypeError\u001b[0m\u001b[1;33m,\u001b[0m \u001b[0mValueError\u001b[0m\u001b[1;33m)\u001b[0m\u001b[1;33m:\u001b[0m\u001b[1;33m\u001b[0m\u001b[1;33m\u001b[0m\u001b[0m\n\u001b[0;32m    203\u001b[0m       \u001b[1;31m# Note: convert_to_eager_tensor currently raises a ValueError, not a\u001b[0m\u001b[1;33m\u001b[0m\u001b[1;33m\u001b[0m\u001b[1;33m\u001b[0m\u001b[0m\n",
      "\u001b[1;32m~\\anaconda3\\lib\\site-packages\\tensorflow\\python\\ops\\math_ops.py\u001b[0m in \u001b[0;36mmatmul\u001b[1;34m(a, b, transpose_a, transpose_b, adjoint_a, adjoint_b, a_is_sparse, b_is_sparse, name)\u001b[0m\n\u001b[0;32m   3312\u001b[0m       \u001b[1;32mreturn\u001b[0m \u001b[0mret\u001b[0m\u001b[1;33m\u001b[0m\u001b[1;33m\u001b[0m\u001b[0m\n\u001b[0;32m   3313\u001b[0m     \u001b[1;32melse\u001b[0m\u001b[1;33m:\u001b[0m\u001b[1;33m\u001b[0m\u001b[1;33m\u001b[0m\u001b[0m\n\u001b[1;32m-> 3314\u001b[1;33m       return gen_math_ops.mat_mul(\n\u001b[0m\u001b[0;32m   3315\u001b[0m           a, b, transpose_a=transpose_a, transpose_b=transpose_b, name=name)\n\u001b[0;32m   3316\u001b[0m \u001b[1;33m\u001b[0m\u001b[0m\n",
      "\u001b[1;32m~\\anaconda3\\lib\\site-packages\\tensorflow\\python\\ops\\gen_math_ops.py\u001b[0m in \u001b[0;36mmat_mul\u001b[1;34m(a, b, transpose_a, transpose_b, name)\u001b[0m\n\u001b[0;32m   5529\u001b[0m       \u001b[1;32mreturn\u001b[0m \u001b[0m_result\u001b[0m\u001b[1;33m\u001b[0m\u001b[1;33m\u001b[0m\u001b[0m\n\u001b[0;32m   5530\u001b[0m     \u001b[1;32mexcept\u001b[0m \u001b[0m_core\u001b[0m\u001b[1;33m.\u001b[0m\u001b[0m_NotOkStatusException\u001b[0m \u001b[1;32mas\u001b[0m \u001b[0me\u001b[0m\u001b[1;33m:\u001b[0m\u001b[1;33m\u001b[0m\u001b[1;33m\u001b[0m\u001b[0m\n\u001b[1;32m-> 5531\u001b[1;33m       \u001b[0m_ops\u001b[0m\u001b[1;33m.\u001b[0m\u001b[0mraise_from_not_ok_status\u001b[0m\u001b[1;33m(\u001b[0m\u001b[0me\u001b[0m\u001b[1;33m,\u001b[0m \u001b[0mname\u001b[0m\u001b[1;33m)\u001b[0m\u001b[1;33m\u001b[0m\u001b[1;33m\u001b[0m\u001b[0m\n\u001b[0m\u001b[0;32m   5532\u001b[0m     \u001b[1;32mexcept\u001b[0m \u001b[0m_core\u001b[0m\u001b[1;33m.\u001b[0m\u001b[0m_FallbackException\u001b[0m\u001b[1;33m:\u001b[0m\u001b[1;33m\u001b[0m\u001b[1;33m\u001b[0m\u001b[0m\n\u001b[0;32m   5533\u001b[0m       \u001b[1;32mpass\u001b[0m\u001b[1;33m\u001b[0m\u001b[1;33m\u001b[0m\u001b[0m\n",
      "\u001b[1;32m~\\anaconda3\\lib\\site-packages\\tensorflow\\python\\framework\\ops.py\u001b[0m in \u001b[0;36mraise_from_not_ok_status\u001b[1;34m(e, name)\u001b[0m\n\u001b[0;32m   6860\u001b[0m   \u001b[0mmessage\u001b[0m \u001b[1;33m=\u001b[0m \u001b[0me\u001b[0m\u001b[1;33m.\u001b[0m\u001b[0mmessage\u001b[0m \u001b[1;33m+\u001b[0m \u001b[1;33m(\u001b[0m\u001b[1;34m\" name: \"\u001b[0m \u001b[1;33m+\u001b[0m \u001b[0mname\u001b[0m \u001b[1;32mif\u001b[0m \u001b[0mname\u001b[0m \u001b[1;32mis\u001b[0m \u001b[1;32mnot\u001b[0m \u001b[1;32mNone\u001b[0m \u001b[1;32melse\u001b[0m \u001b[1;34m\"\"\u001b[0m\u001b[1;33m)\u001b[0m\u001b[1;33m\u001b[0m\u001b[1;33m\u001b[0m\u001b[0m\n\u001b[0;32m   6861\u001b[0m   \u001b[1;31m# pylint: disable=protected-access\u001b[0m\u001b[1;33m\u001b[0m\u001b[1;33m\u001b[0m\u001b[1;33m\u001b[0m\u001b[0m\n\u001b[1;32m-> 6862\u001b[1;33m   \u001b[0msix\u001b[0m\u001b[1;33m.\u001b[0m\u001b[0mraise_from\u001b[0m\u001b[1;33m(\u001b[0m\u001b[0mcore\u001b[0m\u001b[1;33m.\u001b[0m\u001b[0m_status_to_exception\u001b[0m\u001b[1;33m(\u001b[0m\u001b[0me\u001b[0m\u001b[1;33m.\u001b[0m\u001b[0mcode\u001b[0m\u001b[1;33m,\u001b[0m \u001b[0mmessage\u001b[0m\u001b[1;33m)\u001b[0m\u001b[1;33m,\u001b[0m \u001b[1;32mNone\u001b[0m\u001b[1;33m)\u001b[0m\u001b[1;33m\u001b[0m\u001b[1;33m\u001b[0m\u001b[0m\n\u001b[0m\u001b[0;32m   6863\u001b[0m   \u001b[1;31m# pylint: enable=protected-access\u001b[0m\u001b[1;33m\u001b[0m\u001b[1;33m\u001b[0m\u001b[1;33m\u001b[0m\u001b[0m\n\u001b[0;32m   6864\u001b[0m \u001b[1;33m\u001b[0m\u001b[0m\n",
      "\u001b[1;32m~\\anaconda3\\lib\\site-packages\\six.py\u001b[0m in \u001b[0;36mraise_from\u001b[1;34m(value, from_value)\u001b[0m\n",
      "\u001b[1;31mInvalidArgumentError\u001b[0m: Matrix size-incompatible: In[0]: [1,6], In[1]: [7,7] [Op:MatMul]"
     ]
    }
   ],
   "source": [
    "# Prediction\n",
    "def predict(X):\n",
    "    hypo = build_model(X)\n",
    "    return tf.cast(hypo > 0.5, dtype=tf.float32)\n",
    "\n",
    "x_test = np.array([[-0.123503, -0.415542,  0. , -0.306405,  0.605372,  1.015847]],\n",
    "                   dtype=np.float32)\n",
    "y_test = np.array([[1.]], dtype=np.float32)\n",
    "\n",
    "x_test_predict = predict(x_test).numpy()\n",
    "print(\"prob    : \\n %s\" % build_model(x_test).numpy())\n",
    "print(\"predict : \\n %s\" % x_test_predict)"
   ]
  }
 ],
 "metadata": {
  "kernelspec": {
   "display_name": "Python 3",
   "language": "python",
   "name": "python3"
  },
  "language_info": {
   "codemirror_mode": {
    "name": "ipython",
    "version": 3
   },
   "file_extension": ".py",
   "mimetype": "text/x-python",
   "name": "python",
   "nbconvert_exporter": "python",
   "pygments_lexer": "ipython3",
   "version": "3.8.5"
  }
 },
 "nbformat": 4,
 "nbformat_minor": 4
}
